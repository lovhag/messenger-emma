{
 "metadata": {
  "language_info": {
   "codemirror_mode": {
    "name": "ipython",
    "version": 3
   },
   "file_extension": ".py",
   "mimetype": "text/x-python",
   "name": "python",
   "nbconvert_exporter": "python",
   "pygments_lexer": "ipython3",
   "version": "3.7.10"
  },
  "orig_nbformat": 2,
  "kernelspec": {
   "name": "python3",
   "display_name": "Python 3.7.10 64-bit",
   "metadata": {
    "interpreter": {
     "hash": "e774977668b7c0ae8309835a5187aa7fbf7669e7d0bb59755bc63e573643edcd"
    }
   }
  }
 },
 "nbformat": 4,
 "nbformat_minor": 2,
 "cells": [
  {
   "source": [
    "# EXPLORE THE MESSENGER GAME"
   ],
   "cell_type": "markdown",
   "metadata": {}
  },
  {
   "cell_type": "code",
   "execution_count": 1,
   "metadata": {},
   "outputs": [],
   "source": [
    "import messenger.envs.config as config"
   ]
  },
  {
   "cell_type": "code",
   "execution_count": 3,
   "metadata": {},
   "outputs": [
    {
     "output_type": "execute_result",
     "data": {
      "text/plain": [
       "[Entity(name='airplane', id=2),\n",
       " Entity(name='mage', id=3),\n",
       " Entity(name='dog', id=4),\n",
       " Entity(name='bird', id=5),\n",
       " Entity(name='fish', id=6),\n",
       " Entity(name='scientist', id=7),\n",
       " Entity(name='thief', id=8),\n",
       " Entity(name='ship', id=9),\n",
       " Entity(name='ball', id=10),\n",
       " Entity(name='robot', id=11),\n",
       " Entity(name='queen', id=12),\n",
       " Entity(name='sword', id=13),\n",
       " Entity(name='wall', id=14),\n",
       " Entity(name='no_message', id=15),\n",
       " Entity(name='with_message', id=16)]"
      ]
     },
     "metadata": {},
     "execution_count": 3
    }
   ],
   "source": [
    "config.ALL_ENTITIES"
   ]
  },
  {
   "cell_type": "code",
   "execution_count": 105,
   "metadata": {},
   "outputs": [],
   "source": [
    "def printObsView(obs):\n",
    "    print(obs[\"entities\"].sum(axis=-1)+obs[\"avatar\"].sum(axis=-1))\n",
    "    ids = np.delete(np.unique(obs[\"entities\"]), 0)\n",
    "    id_names = {str(int(i)): config.ALL_ENTITIES[int(i)-2].name for i in ids}\n",
    "    id_names[\"15\"] = \"avatar_no_message\"\n",
    "    id_names[\"16\"] = \"avatar_with_message\"\n",
    "    for key, value in id_names.items():\n",
    "        print(f\"{key}: {value}\")"
   ]
  },
  {
   "cell_type": "code",
   "execution_count": 4,
   "metadata": {},
   "outputs": [],
   "source": [
    "import gym\n",
    "env = gym.make('msgr-train-v2')"
   ]
  },
  {
   "cell_type": "code",
   "execution_count": 169,
   "metadata": {},
   "outputs": [],
   "source": [
    "obs, manual = env.reset()"
   ]
  },
  {
   "source": [
    "## INSTRUCTIONS"
   ],
   "cell_type": "markdown",
   "metadata": {}
  },
  {
   "cell_type": "code",
   "execution_count": 170,
   "metadata": {},
   "outputs": [
    {
     "output_type": "execute_result",
     "data": {
      "text/plain": [
       "['a restricted robber is the document that flees from you.',\n",
       " 'the female monarch does not move, but is a dangerous opponent.',\n",
       " 'the jet carrying a crucial target chases you.']"
      ]
     },
     "metadata": {},
     "execution_count": 170
    }
   ],
   "source": [
    "manual"
   ]
  },
  {
   "source": [
    "## DO STUFF"
   ],
   "cell_type": "markdown",
   "metadata": {}
  },
  {
   "cell_type": "code",
   "execution_count": 141,
   "metadata": {},
   "outputs": [
    {
     "output_type": "execute_result",
     "data": {
      "text/plain": [
       "Actions(up=0, down=1, left=2, right=3, stay=4)"
      ]
     },
     "metadata": {},
     "execution_count": 141
    }
   ],
   "source": [
    "config.ACTIONS"
   ]
  },
  {
   "cell_type": "code",
   "execution_count": 164,
   "metadata": {},
   "outputs": [
    {
     "output_type": "stream",
     "name": "stdout",
     "text": [
      "[[ 0.  0.  0.  0.  0.  0.  0.  0.  0.  0.]\n [ 0.  0.  0.  0.  0.  0.  0.  0.  0.  0.]\n [ 0.  0.  0.  0.  0.  0.  0.  0.  0.  0.]\n [ 0.  0.  0.  0.  0.  0.  0.  0.  0.  0.]\n [ 0.  0.  0.  0.  0.  0.  0.  8.  0.  0.]\n [ 0.  0.  0.  0.  0.  0.  0.  0.  0.  0.]\n [ 0.  0.  0.  0.  0.  0.  0.  0.  0.  0.]\n [ 0.  0.  0.  0.  0.  0.  0.  0.  0.  0.]\n [ 0.  0.  0.  0.  0.  0. 16.  0.  0.  0.]\n [ 0.  0.  0.  0.  0.  0.  0.  0.  0.  0.]]\n8: thief\n15: avatar_no_message\n16: avatar_with_message\n"
     ]
    }
   ],
   "source": [
    "obs, reward, done, info = env.step(2)\n",
    "printObsView(obs)"
   ]
  },
  {
   "source": [
    "## SHOW RESULTS"
   ],
   "cell_type": "markdown",
   "metadata": {}
  },
  {
   "cell_type": "code",
   "execution_count": 165,
   "metadata": {},
   "outputs": [
    {
     "output_type": "execute_result",
     "data": {
      "text/plain": [
       "True"
      ]
     },
     "metadata": {},
     "execution_count": 165
    }
   ],
   "source": [
    "done"
   ]
  },
  {
   "cell_type": "code",
   "execution_count": 166,
   "metadata": {},
   "outputs": [
    {
     "output_type": "execute_result",
     "data": {
      "text/plain": [
       "1.0"
      ]
     },
     "metadata": {},
     "execution_count": 166
    }
   ],
   "source": [
    "reward"
   ]
  },
  {
   "cell_type": "code",
   "execution_count": 144,
   "metadata": {},
   "outputs": [
    {
     "output_type": "stream",
     "name": "stdout",
     "text": [
      "[[ 0.  0.  0.  0.  0.  0.  0.  0.  0.  0.]\n [ 0.  0.  0.  0.  0.  0.  0.  0.  0.  0.]\n [ 0.  0.  8.  0.  0.  0.  0.  7.  0.  0.]\n [ 0.  0.  0.  0.  0.  0.  0.  0.  0.  0.]\n [ 0.  0.  0.  0.  0.  0.  0.  0.  0.  0.]\n [ 0.  0.  0.  0.  0.  0.  0.  0.  0.  0.]\n [ 0.  0.  0.  0.  0.  0.  0.  2.  0.  0.]\n [ 0.  0.  0. 15.  0.  0.  0.  0.  0.  0.]\n [ 0.  0.  0.  0.  0.  0.  0.  0.  0.  0.]\n [ 0.  0.  0.  0.  0.  0.  0.  0.  0.  0.]]\n2: airplane\n7: scientist\n8: thief\n15: avatar_no_message\n16: avatar_with_message\n"
     ]
    }
   ],
   "source": [
    "printObsView(obs)"
   ]
  },
  {
   "source": [
    "## "
   ],
   "cell_type": "markdown",
   "metadata": {}
  }
 ]
}